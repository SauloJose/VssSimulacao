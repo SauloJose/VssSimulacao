{
 "cells": [
  {
   "cell_type": "markdown",
   "id": "09ca8ea1",
   "metadata": {},
   "source": [
    "### 1. Tentando verificar  um filtro para identificar os carros\n",
    "\n",
    "Aqui uma tentativa de identificar os carros através de filtros"
   ]
  },
  {
   "cell_type": "code",
   "execution_count": null,
   "id": "1d2197e0",
   "metadata": {},
   "outputs": [],
   "source": [
    "#importanto bibliotecas\n",
    "import numpy as np\n",
    "import cv2\n",
    "\n"
   ]
  }
 ],
 "metadata": {
  "kernelspec": {
   "display_name": "Python 3 (ipykernel)",
   "language": "python",
   "name": "python3"
  },
  "language_info": {
   "codemirror_mode": {
    "name": "ipython",
    "version": 3
   },
   "file_extension": ".py",
   "mimetype": "text/x-python",
   "name": "python",
   "nbconvert_exporter": "python",
   "pygments_lexer": "ipython3",
   "version": "3.9.13"
  }
 },
 "nbformat": 4,
 "nbformat_minor": 5
}
